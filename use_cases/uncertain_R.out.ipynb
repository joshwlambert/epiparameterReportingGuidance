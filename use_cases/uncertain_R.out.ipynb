{
 "cells": [
  {
   "cell_type": "markdown",
   "metadata": {},
   "source": [
    "#"
   ],
   "id": "99933b00-fff3-4285-8e64-1476ab6b350d"
  },
  {
   "cell_type": "code",
   "execution_count": null,
   "metadata": {},
   "outputs": [
    {
     "output_type": "stream",
     "name": "stderr",
     "text": [
      "\n",
      "Attaching package: 'socialmixr'"
     ]
    },
    {
     "output_type": "stream",
     "name": "stderr",
     "text": [
      "The following object is masked from 'package:utils':\n",
      "\n",
      "    cite"
     ]
    }
   ],
   "source": [
    "# load finalsize\n",
    "library(finalsize)\n",
    "library(socialmixr)\n"
   ],
   "id": "d1d0aafc-dc66-4463-bfae-aa429b86a95f"
  },
  {
   "cell_type": "code",
   "execution_count": null,
   "metadata": {},
   "outputs": [
    {
     "output_type": "stream",
     "name": "stderr",
     "text": [
      "Using POLYMOD social contact data. To cite this in a publication, use the 'get_citation()' function"
     ]
    },
    {
     "output_type": "stream",
     "name": "stderr",
     "text": [
      "Removing participants that have contacts without age information. To change this behaviour, set the 'missing.contact.age' option"
     ]
    },
    {
     "output_type": "stream",
     "name": "stderr",
     "text": [
      "Warning in pop_age(survey.pop, part.age.group.present, ...): Not all age groups represented in population data (5-year age band).\n",
      "  Linearly estimating age group sizes from the 5-year bands."
     ]
    }
   ],
   "source": [
    "# get UK polymod data from socialmixr\n",
    "polymod <- socialmixr::polymod\n",
    "contact_data <- socialmixr::contact_matrix(\n",
    "  polymod,\n",
    "  countries = \"United Kingdom\",\n",
    "  age.limits = c(0, 5, 18, 40, 65),\n",
    "  symmetric = TRUE\n",
    ")\n"
   ],
   "id": "6bb0ab42-8f75-43f7-bb9b-243949fba019"
  },
  {
   "cell_type": "code",
   "execution_count": null,
   "metadata": {},
   "outputs": [],
   "source": [
    "# mean R0 is 1.5\n",
    "r0_mean <- 1.5\n"
   ],
   "id": "0fadbe4f-f1bc-40fa-888c-444e4a588bff"
  },
  {
   "cell_type": "code",
   "execution_count": null,
   "metadata": {},
   "outputs": [],
   "source": [
    "# susceptibility is uniform\n",
    "susc_uniform <- matrix(\n",
    "  data = 1,\n",
    "  nrow = n_demo_grps,\n",
    "  ncol = 1L\n",
    ")\n",
    "\n",
    "# p_susceptibility is uniform\n",
    "p_susc_uniform <- susc_uniform\n"
   ],
   "id": "869cb622-c2cb-4d52-9522-cb4a55eb9584"
  },
  {
   "cell_type": "code",
   "execution_count": null,
   "metadata": {},
   "outputs": [],
   "source": [
    "# create an R0 samples vector\n",
    "r0_samples <- rnorm(n = 1000, mean = r0_mean, sd = 0.1)\n"
   ],
   "id": "d43326e4-3df0-4125-9508-53ebff07da92"
  },
  {
   "cell_type": "code",
   "execution_count": null,
   "metadata": {},
   "outputs": [
    {
     "output_type": "stream",
     "name": "stdout",
     "text": [
      "   demo_grp   susc_grp susceptibility p_infected replicate r0_estimate\n",
      "1     [0,5) susc_grp_1              1  0.4378500         1    1.536741\n",
      "2    [5,18) susc_grp_1              1  0.7111826         1    1.536741\n",
      "3   [18,40) susc_grp_1              1  0.5625151         1    1.536741\n",
      "4   [40,65) susc_grp_1              1  0.4875332         1    1.536741\n",
      "5       65+ susc_grp_1              1  0.3227313         1    1.536741\n",
      "6     [0,5) susc_grp_1              1  0.4374186         2    1.535997\n",
      "7    [5,18) susc_grp_1              1  0.7107502         2    1.535997\n",
      "8   [18,40) susc_grp_1              1  0.5620324         2    1.535997\n",
      "9   [40,65) susc_grp_1              1  0.4870674         2    1.535997\n",
      "10      65+ susc_grp_1              1  0.3223626         2    1.535997\n",
      "11    [0,5) susc_grp_1              1  0.4528238         3    1.563006\n",
      "12   [5,18) susc_grp_1              1  0.7259570         3    1.563006\n",
      "13  [18,40) susc_grp_1              1  0.5791672         3    1.563006\n",
      "14  [40,65) susc_grp_1              1  0.5036707         3    1.563006\n",
      "15      65+ susc_grp_1              1  0.3355975         3    1.563006"
     ]
    }
   ],
   "source": [
    "# run final size on each sample with the same data\n",
    "final_size_data <- Map(\n",
    "  r0_samples, seq_along(r0_samples),\n",
    "  f = function(r0, i) {\n",
    "    # the i-th final size estimate\n",
    "    fs <- final_size(\n",
    "      r0 = r0,\n",
    "      contact_matrix = contact_matrix,\n",
    "      demography_vector = demography_vector,\n",
    "      susceptibility = susc_uniform,\n",
    "      p_susceptibility = p_susc_uniform\n",
    "    )\n",
    "\n",
    "    fs$replicate <- i\n",
    "    fs$r0_estimate <- r0\n",
    "    fs\n",
    "  }\n",
    ")\n",
    "\n",
    "# combine data\n",
    "final_size_data <- Reduce(x = final_size_data, f = rbind)\n",
    "\n",
    "# order age groups\n",
    "final_size_data$demo_grp <- factor(\n",
    "  final_size_data$demo_grp,\n",
    "  levels = contact_data$demography$age.group\n",
    ")\n",
    "\n",
    "# examine some replicates in the data\n",
    "head(final_size_data, 15)\n"
   ],
   "id": "f70de132-354c-4e89-9309-2575ad69d2ea"
  }
 ],
 "nbformat": 4,
 "nbformat_minor": 5,
 "metadata": {}
}
